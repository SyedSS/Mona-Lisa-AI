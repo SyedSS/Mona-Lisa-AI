{
 "cells": [
  {
   "cell_type": "markdown",
   "metadata": {},
   "source": [
    "# Can we predict a person's gender based on their tweet text?"
   ]
  },
  {
   "cell_type": "markdown",
   "metadata": {},
   "source": [
    "Steps:\n",
    "1. Pull twitter data \n",
    "2. Store into dataframe\n",
    "3. Classify male/female\n",
    "4. Run model\n",
    "5. Test with real tweet"
   ]
  },
  {
   "cell_type": "code",
   "execution_count": 31,
   "metadata": {},
   "outputs": [],
   "source": [
    "import numpy as np\n",
    "import pandas as pd\n",
    "import tweepy as tw\n",
    "import json\n",
    "import pprint"
   ]
  },
  {
   "cell_type": "code",
   "execution_count": 37,
   "metadata": {},
   "outputs": [],
   "source": [
    "path_auth = '/Users/allenj/Documents/Keys/auth_twitter.json'\n",
    "auth = json.loads(open(path_auth).read())\n",
    "pp = pprint.PrettyPrinter(indent=4)\n",
    "\n",
    "my_consumer_key = auth['my_consumer_key']\n",
    "my_consumer_secret = auth['my_consumer_secret']\n",
    "my_access_token = auth['your_access_token']\n",
    "my_access_token_secret = auth['my_access_token_secret']"
   ]
  },
  {
   "cell_type": "code",
   "execution_count": 38,
   "metadata": {},
   "outputs": [],
   "source": [
    "auth = tw.OAuthHandler(my_consumer_key, my_consumer_secret)\n",
    "auth.set_access_token(my_access_token, my_access_token_secret)\n",
    "api = tw.API(auth)"
   ]
  },
  {
   "cell_type": "code",
   "execution_count": 39,
   "metadata": {},
   "outputs": [
    {
     "data": {
      "text/plain": [
       "tweepy.api.API"
      ]
     },
     "execution_count": 39,
     "metadata": {},
     "output_type": "execute_result"
    }
   ],
   "source": [
    "type(api)"
   ]
  },
  {
   "cell_type": "code",
   "execution_count": 14,
   "metadata": {},
   "outputs": [
    {
     "name": "stdout",
     "output_type": "stream",
     "text": [
      "Both vulnerable communities and those in positions of power are indebted to the activists who push for progress. La… https://t.co/a1acpcEiin\n",
      "We can protect public health and our democracy. \n",
      "\n",
      "We'll do it by filing lawsuits now to expand and safeguard vote b… https://t.co/2dRd3hu5bK\n",
      "Voting by mail has long been the norm in states like Oregon, Washington, &amp; Utah. It's easy and secure. \n",
      "\n",
      "Trump hims… https://t.co/D5GmENkroI\n",
      "1. Provide free or prepaid postage so no one has to pay to vote.\n",
      "\n",
      "2. Count ballots postmarked on or before Election… https://t.co/AsZesb80Ex\n",
      "We have the data to guide us not only to implement voting by mail, but to make it secure and effective.\n",
      "\n",
      "It comes d… https://t.co/MAgCyvT5Mv\n"
     ]
    }
   ],
   "source": [
    "# Get tweets\n",
    "tweets = api.user_timeline(screen_name=\"HillaryClinton\", count=5, include_rts=False)\n",
    "for tweet in tweets:\n",
    "    print(tweet.text)"
   ]
  },
  {
   "cell_type": "code",
   "execution_count": 16,
   "metadata": {},
   "outputs": [
    {
     "name": "stdout",
     "output_type": "stream",
     "text": [
      "If you believe in a more just, more generous, more democratic America, now is the time to fight for it. Here’s a te… https://t.co/wjDlgys1Uc\n",
      "On Memorial Day, we honor those who gave all for us. That takes different forms this year, but it’s even more vital… https://t.co/wUBXJWWoKs\n",
      "And here’s more on the approach Sweden has taken, which differs from some of its neighbors: \n",
      "\n",
      "https://t.co/Qw5R0O5RhM\n",
      "South Korea has focused on testing to guard against outbreaks:\n",
      "\n",
      "https://t.co/51h11Pb3HZ\n",
      "As all 50 states begin the process of reopening, here are three articles that offer some lessons from other countri… https://t.co/k6xeoaH9zm\n"
     ]
    }
   ],
   "source": [
    "tweets = api.user_timeline(screen_name=\"BarackObama\", count=5, include_rts=False)\n",
    "for tweet in tweets:\n",
    "    print(tweet.text)"
   ]
  },
  {
   "cell_type": "code",
   "execution_count": 62,
   "metadata": {},
   "outputs": [
    {
     "data": {
      "text/plain": [
       "<tweepy.cursor.ItemIterator at 0x1213f7690>"
      ]
     },
     "execution_count": 62,
     "metadata": {},
     "output_type": "execute_result"
    }
   ],
   "source": [
    "# Define search term\n",
    "search_words = \"#wildfires\"\n",
    "date_since = \"2018-11-16\"\n",
    "\n",
    "# Collect tweets\n",
    "tweets = tw.Cursor(api.search,\n",
    "              q=search_words,\n",
    "              lang=\"en\",\n",
    "              since=date_since).items(5)\n",
    "tweets"
   ]
  },
  {
   "cell_type": "code",
   "execution_count": 63,
   "metadata": {},
   "outputs": [
    {
     "name": "stdout",
     "output_type": "stream",
     "text": [
      "RT @Univ_inenglish: The best way to fight a #fire is with prevention since 98% of them are caused by human activity. Today, #Mexican author…\n",
      "Looking for family projects as you #StayAtHome? Here are 30 #EmergencyPreparedness tips for #hurricanes, #tornadoes… https://t.co/4hOHdo2OL2\n",
      "The best way to fight a #fire is with prevention since 98% of them are caused by human activity. Today, #Mexican au… https://t.co/2DNIbzQrk6\n",
      "RT @tamraraven: #10km3x2 #COVID19 DEAD 100,000 #exponentialGROWTH #K12 #climateChange #wildfires destroyslocal #biodiversity YOU #WorkFromH…\n",
      "#10km3x2 #COVID19 DEAD 100,000 #exponentialGROWTH #K12 #climateChange #wildfires destroyslocal #biodiversity YOU… https://t.co/TeMQIwnpP1\n"
     ]
    }
   ],
   "source": [
    "# Iterate and print tweets\n",
    "for tweet in tweets:\n",
    "    print(tweet.text)"
   ]
  },
  {
   "cell_type": "code",
   "execution_count": 65,
   "metadata": {},
   "outputs": [
    {
     "data": {
      "text/plain": [
       "['RT @Univ_inenglish: The best way to fight a #fire is with prevention since 98% of them are caused by human activity. Today, #Mexican author…',\n",
       " 'Looking for family projects as you #StayAtHome? Here are 30 #EmergencyPreparedness tips for #hurricanes, #tornadoes… https://t.co/4hOHdo2OL2',\n",
       " 'The best way to fight a #fire is with prevention since 98% of them are caused by human activity. Today, #Mexican au… https://t.co/2DNIbzQrk6',\n",
       " 'RT @tamraraven: #10km3x2 #COVID19 DEAD 100,000 #exponentialGROWTH #K12 #climateChange #wildfires destroyslocal #biodiversity YOU #WorkFromH…',\n",
       " '#10km3x2 #COVID19 DEAD 100,000 #exponentialGROWTH #K12 #climateChange #wildfires destroyslocal #biodiversity YOU… https://t.co/TeMQIwnpP1']"
      ]
     },
     "execution_count": 65,
     "metadata": {},
     "output_type": "execute_result"
    }
   ],
   "source": [
    "# Collect tweets\n",
    "tweets = tw.Cursor(api.search,\n",
    "                       q=search_words,\n",
    "                       lang=\"en\",\n",
    "                       since=date_since).items(5)\n",
    "\n",
    "# Collect a list of tweets\n",
    "[tweet.text for tweet in tweets]"
   ]
  },
  {
   "cell_type": "code",
   "execution_count": 80,
   "metadata": {},
   "outputs": [
    {
     "data": {
      "text/plain": [
       "[['AntheralHazel',\n",
       "  'RT @Univ_inenglish: The best way to fight a #fire is with prevention since 98% of them are caused by human activity. Today, #Mexican author…'],\n",
       " ['El_Universal_Mx',\n",
       "  'RT @Univ_inenglish: The best way to fight a #fire is with prevention since 98% of them are caused by human activity. Today, #Mexican author…'],\n",
       " ['cassandra17lina',\n",
       "  'Looking for family projects as you #StayAtHome? Here are 30 #EmergencyPreparedness tips for #hurricanes, #tornadoes… https://t.co/4hOHdo2OL2'],\n",
       " ['Univ_inenglish',\n",
       "  'The best way to fight a #fire is with prevention since 98% of them are caused by human activity. Today, #Mexican au… https://t.co/2DNIbzQrk6'],\n",
       " ['jc_james_clark',\n",
       "  'RT @tamraraven: #10km3x2 #COVID19 DEAD 100,000 #exponentialGROWTH #K12 #climateChange #wildfires destroyslocal #biodiversity YOU #WorkFromH…']]"
      ]
     },
     "execution_count": 80,
     "metadata": {},
     "output_type": "execute_result"
    }
   ],
   "source": [
    "# Collect into dataframe\n",
    "tweets = tw.Cursor(api.search, \n",
    "                           q=search_words,\n",
    "                           lang=\"en\",\n",
    "                           since=date_since).items(5)\n",
    "\n",
    "users_text = [[tweet.user.screen_name, tweet.text] for tweet in tweets]\n",
    "users_text"
   ]
  },
  {
   "cell_type": "code",
   "execution_count": 81,
   "metadata": {},
   "outputs": [
    {
     "data": {
      "text/html": [
       "<div>\n",
       "<style scoped>\n",
       "    .dataframe tbody tr th:only-of-type {\n",
       "        vertical-align: middle;\n",
       "    }\n",
       "\n",
       "    .dataframe tbody tr th {\n",
       "        vertical-align: top;\n",
       "    }\n",
       "\n",
       "    .dataframe thead th {\n",
       "        text-align: right;\n",
       "    }\n",
       "</style>\n",
       "<table border=\"1\" class=\"dataframe\">\n",
       "  <thead>\n",
       "    <tr style=\"text-align: right;\">\n",
       "      <th></th>\n",
       "      <th>user</th>\n",
       "      <th>text</th>\n",
       "    </tr>\n",
       "  </thead>\n",
       "  <tbody>\n",
       "    <tr>\n",
       "      <td>0</td>\n",
       "      <td>AntheralHazel</td>\n",
       "      <td>RT @Univ_inenglish: The best way to fight a #f...</td>\n",
       "    </tr>\n",
       "    <tr>\n",
       "      <td>1</td>\n",
       "      <td>El_Universal_Mx</td>\n",
       "      <td>RT @Univ_inenglish: The best way to fight a #f...</td>\n",
       "    </tr>\n",
       "    <tr>\n",
       "      <td>2</td>\n",
       "      <td>cassandra17lina</td>\n",
       "      <td>Looking for family projects as you #StayAtHome...</td>\n",
       "    </tr>\n",
       "    <tr>\n",
       "      <td>3</td>\n",
       "      <td>Univ_inenglish</td>\n",
       "      <td>The best way to fight a #fire is with preventi...</td>\n",
       "    </tr>\n",
       "    <tr>\n",
       "      <td>4</td>\n",
       "      <td>jc_james_clark</td>\n",
       "      <td>RT @tamraraven: #10km3x2 #COVID19 DEAD 100,000...</td>\n",
       "    </tr>\n",
       "  </tbody>\n",
       "</table>\n",
       "</div>"
      ],
      "text/plain": [
       "              user                                               text\n",
       "0    AntheralHazel  RT @Univ_inenglish: The best way to fight a #f...\n",
       "1  El_Universal_Mx  RT @Univ_inenglish: The best way to fight a #f...\n",
       "2  cassandra17lina  Looking for family projects as you #StayAtHome...\n",
       "3   Univ_inenglish  The best way to fight a #fire is with preventi...\n",
       "4   jc_james_clark  RT @tamraraven: #10km3x2 #COVID19 DEAD 100,000..."
      ]
     },
     "execution_count": 81,
     "metadata": {},
     "output_type": "execute_result"
    }
   ],
   "source": [
    "tweet_text = pd.DataFrame(data=users_text, \n",
    "                    columns=['user', \"text\"])\n",
    "tweet_text"
   ]
  },
  {
   "cell_type": "code",
   "execution_count": 73,
   "metadata": {},
   "outputs": [],
   "source": [
    "# Now do it based off of users"
   ]
  },
  {
   "cell_type": "code",
   "execution_count": 79,
   "metadata": {},
   "outputs": [
    {
     "data": {
      "text/plain": [
       "[Status(_api=<tweepy.api.API object at 0x120c8c590>, _json={'created_at': 'Wed May 27 15:00:15 +0000 2020', 'id': 1265659084524728321, 'id_str': '1265659084524728321', 'text': 'If you believe in a more just, more generous, more democratic America, now is the time to fight for it. Here’s a te… https://t.co/wjDlgys1Uc', 'truncated': True, 'entities': {'hashtags': [], 'symbols': [], 'user_mentions': [], 'urls': [{'url': 'https://t.co/wjDlgys1Uc', 'expanded_url': 'https://twitter.com/i/web/status/1265659084524728321', 'display_url': 'twitter.com/i/web/status/1…', 'indices': [117, 140]}]}, 'source': '<a href=\"https://mobile.twitter.com\" rel=\"nofollow\">Twitter Web App</a>', 'in_reply_to_status_id': None, 'in_reply_to_status_id_str': None, 'in_reply_to_user_id': None, 'in_reply_to_user_id_str': None, 'in_reply_to_screen_name': None, 'user': {'id': 813286, 'id_str': '813286', 'name': 'Barack Obama', 'screen_name': 'BarackObama', 'location': 'Washington, DC', 'description': 'Dad, husband, President, citizen.', 'url': 'https://t.co/93Y27HEnnX', 'entities': {'url': {'urls': [{'url': 'https://t.co/93Y27HEnnX', 'expanded_url': 'https://www.obama.org/', 'display_url': 'obama.org', 'indices': [0, 23]}]}, 'description': {'urls': []}}, 'protected': False, 'followers_count': 118025094, 'friends_count': 605870, 'listed_count': 220504, 'created_at': 'Mon Mar 05 22:08:25 +0000 2007', 'favourites_count': 5, 'utc_offset': None, 'time_zone': None, 'geo_enabled': False, 'verified': True, 'statuses_count': 15812, 'lang': None, 'contributors_enabled': False, 'is_translator': False, 'is_translation_enabled': True, 'profile_background_color': '77B0DC', 'profile_background_image_url': 'http://abs.twimg.com/images/themes/theme1/bg.png', 'profile_background_image_url_https': 'https://abs.twimg.com/images/themes/theme1/bg.png', 'profile_background_tile': False, 'profile_image_url': 'http://pbs.twimg.com/profile_images/822547732376207360/5g0FC8XX_normal.jpg', 'profile_image_url_https': 'https://pbs.twimg.com/profile_images/822547732376207360/5g0FC8XX_normal.jpg', 'profile_banner_url': 'https://pbs.twimg.com/profile_banners/813286/1502508746', 'profile_link_color': '2574AD', 'profile_sidebar_border_color': 'FFFFFF', 'profile_sidebar_fill_color': 'C2E0F6', 'profile_text_color': '333333', 'profile_use_background_image': True, 'has_extended_profile': True, 'default_profile': False, 'default_profile_image': False, 'following': True, 'follow_request_sent': False, 'notifications': False, 'translator_type': 'regular'}, 'geo': None, 'coordinates': None, 'place': None, 'contributors': None, 'is_quote_status': False, 'retweet_count': 16180, 'favorite_count': 64653, 'favorited': False, 'retweeted': False, 'possibly_sensitive': False, 'lang': 'en'}, created_at=datetime.datetime(2020, 5, 27, 15, 0, 15), id=1265659084524728321, id_str='1265659084524728321', text='If you believe in a more just, more generous, more democratic America, now is the time to fight for it. Here’s a te… https://t.co/wjDlgys1Uc', truncated=True, entities={'hashtags': [], 'symbols': [], 'user_mentions': [], 'urls': [{'url': 'https://t.co/wjDlgys1Uc', 'expanded_url': 'https://twitter.com/i/web/status/1265659084524728321', 'display_url': 'twitter.com/i/web/status/1…', 'indices': [117, 140]}]}, source='Twitter Web App', source_url='https://mobile.twitter.com', in_reply_to_status_id=None, in_reply_to_status_id_str=None, in_reply_to_user_id=None, in_reply_to_user_id_str=None, in_reply_to_screen_name=None, author=User(_api=<tweepy.api.API object at 0x120c8c590>, _json={'id': 813286, 'id_str': '813286', 'name': 'Barack Obama', 'screen_name': 'BarackObama', 'location': 'Washington, DC', 'description': 'Dad, husband, President, citizen.', 'url': 'https://t.co/93Y27HEnnX', 'entities': {'url': {'urls': [{'url': 'https://t.co/93Y27HEnnX', 'expanded_url': 'https://www.obama.org/', 'display_url': 'obama.org', 'indices': [0, 23]}]}, 'description': {'urls': []}}, 'protected': False, 'followers_count': 118025094, 'friends_count': 605870, 'listed_count': 220504, 'created_at': 'Mon Mar 05 22:08:25 +0000 2007', 'favourites_count': 5, 'utc_offset': None, 'time_zone': None, 'geo_enabled': False, 'verified': True, 'statuses_count': 15812, 'lang': None, 'contributors_enabled': False, 'is_translator': False, 'is_translation_enabled': True, 'profile_background_color': '77B0DC', 'profile_background_image_url': 'http://abs.twimg.com/images/themes/theme1/bg.png', 'profile_background_image_url_https': 'https://abs.twimg.com/images/themes/theme1/bg.png', 'profile_background_tile': False, 'profile_image_url': 'http://pbs.twimg.com/profile_images/822547732376207360/5g0FC8XX_normal.jpg', 'profile_image_url_https': 'https://pbs.twimg.com/profile_images/822547732376207360/5g0FC8XX_normal.jpg', 'profile_banner_url': 'https://pbs.twimg.com/profile_banners/813286/1502508746', 'profile_link_color': '2574AD', 'profile_sidebar_border_color': 'FFFFFF', 'profile_sidebar_fill_color': 'C2E0F6', 'profile_text_color': '333333', 'profile_use_background_image': True, 'has_extended_profile': True, 'default_profile': False, 'default_profile_image': False, 'following': True, 'follow_request_sent': False, 'notifications': False, 'translator_type': 'regular'}, id=813286, id_str='813286', name='Barack Obama', screen_name='BarackObama', location='Washington, DC', description='Dad, husband, President, citizen.', url='https://t.co/93Y27HEnnX', entities={'url': {'urls': [{'url': 'https://t.co/93Y27HEnnX', 'expanded_url': 'https://www.obama.org/', 'display_url': 'obama.org', 'indices': [0, 23]}]}, 'description': {'urls': []}}, protected=False, followers_count=118025094, friends_count=605870, listed_count=220504, created_at=datetime.datetime(2007, 3, 5, 22, 8, 25), favourites_count=5, utc_offset=None, time_zone=None, geo_enabled=False, verified=True, statuses_count=15812, lang=None, contributors_enabled=False, is_translator=False, is_translation_enabled=True, profile_background_color='77B0DC', profile_background_image_url='http://abs.twimg.com/images/themes/theme1/bg.png', profile_background_image_url_https='https://abs.twimg.com/images/themes/theme1/bg.png', profile_background_tile=False, profile_image_url='http://pbs.twimg.com/profile_images/822547732376207360/5g0FC8XX_normal.jpg', profile_image_url_https='https://pbs.twimg.com/profile_images/822547732376207360/5g0FC8XX_normal.jpg', profile_banner_url='https://pbs.twimg.com/profile_banners/813286/1502508746', profile_link_color='2574AD', profile_sidebar_border_color='FFFFFF', profile_sidebar_fill_color='C2E0F6', profile_text_color='333333', profile_use_background_image=True, has_extended_profile=True, default_profile=False, default_profile_image=False, following=True, follow_request_sent=False, notifications=False, translator_type='regular'), user=User(_api=<tweepy.api.API object at 0x120c8c590>, _json={'id': 813286, 'id_str': '813286', 'name': 'Barack Obama', 'screen_name': 'BarackObama', 'location': 'Washington, DC', 'description': 'Dad, husband, President, citizen.', 'url': 'https://t.co/93Y27HEnnX', 'entities': {'url': {'urls': [{'url': 'https://t.co/93Y27HEnnX', 'expanded_url': 'https://www.obama.org/', 'display_url': 'obama.org', 'indices': [0, 23]}]}, 'description': {'urls': []}}, 'protected': False, 'followers_count': 118025094, 'friends_count': 605870, 'listed_count': 220504, 'created_at': 'Mon Mar 05 22:08:25 +0000 2007', 'favourites_count': 5, 'utc_offset': None, 'time_zone': None, 'geo_enabled': False, 'verified': True, 'statuses_count': 15812, 'lang': None, 'contributors_enabled': False, 'is_translator': False, 'is_translation_enabled': True, 'profile_background_color': '77B0DC', 'profile_background_image_url': 'http://abs.twimg.com/images/themes/theme1/bg.png', 'profile_background_image_url_https': 'https://abs.twimg.com/images/themes/theme1/bg.png', 'profile_background_tile': False, 'profile_image_url': 'http://pbs.twimg.com/profile_images/822547732376207360/5g0FC8XX_normal.jpg', 'profile_image_url_https': 'https://pbs.twimg.com/profile_images/822547732376207360/5g0FC8XX_normal.jpg', 'profile_banner_url': 'https://pbs.twimg.com/profile_banners/813286/1502508746', 'profile_link_color': '2574AD', 'profile_sidebar_border_color': 'FFFFFF', 'profile_sidebar_fill_color': 'C2E0F6', 'profile_text_color': '333333', 'profile_use_background_image': True, 'has_extended_profile': True, 'default_profile': False, 'default_profile_image': False, 'following': True, 'follow_request_sent': False, 'notifications': False, 'translator_type': 'regular'}, id=813286, id_str='813286', name='Barack Obama', screen_name='BarackObama', location='Washington, DC', description='Dad, husband, President, citizen.', url='https://t.co/93Y27HEnnX', entities={'url': {'urls': [{'url': 'https://t.co/93Y27HEnnX', 'expanded_url': 'https://www.obama.org/', 'display_url': 'obama.org', 'indices': [0, 23]}]}, 'description': {'urls': []}}, protected=False, followers_count=118025094, friends_count=605870, listed_count=220504, created_at=datetime.datetime(2007, 3, 5, 22, 8, 25), favourites_count=5, utc_offset=None, time_zone=None, geo_enabled=False, verified=True, statuses_count=15812, lang=None, contributors_enabled=False, is_translator=False, is_translation_enabled=True, profile_background_color='77B0DC', profile_background_image_url='http://abs.twimg.com/images/themes/theme1/bg.png', profile_background_image_url_https='https://abs.twimg.com/images/themes/theme1/bg.png', profile_background_tile=False, profile_image_url='http://pbs.twimg.com/profile_images/822547732376207360/5g0FC8XX_normal.jpg', profile_image_url_https='https://pbs.twimg.com/profile_images/822547732376207360/5g0FC8XX_normal.jpg', profile_banner_url='https://pbs.twimg.com/profile_banners/813286/1502508746', profile_link_color='2574AD', profile_sidebar_border_color='FFFFFF', profile_sidebar_fill_color='C2E0F6', profile_text_color='333333', profile_use_background_image=True, has_extended_profile=True, default_profile=False, default_profile_image=False, following=True, follow_request_sent=False, notifications=False, translator_type='regular'), geo=None, coordinates=None, place=None, contributors=None, is_quote_status=False, retweet_count=16180, favorite_count=64653, favorited=False, retweeted=False, possibly_sensitive=False, lang='en'),\n",
       " Status(_api=<tweepy.api.API object at 0x120c8c590>, _json={'created_at': 'Mon May 25 14:31:05 +0000 2020', 'id': 1264926971890409472, 'id_str': '1264926971890409472', 'text': 'On Memorial Day, we honor those who gave all for us. That takes different forms this year, but it’s even more vital… https://t.co/wUBXJWWoKs', 'truncated': True, 'entities': {'hashtags': [], 'symbols': [], 'user_mentions': [], 'urls': [{'url': 'https://t.co/wUBXJWWoKs', 'expanded_url': 'https://twitter.com/i/web/status/1264926971890409472', 'display_url': 'twitter.com/i/web/status/1…', 'indices': [117, 140]}]}, 'source': '<a href=\"http://twitter.com/download/iphone\" rel=\"nofollow\">Twitter for iPhone</a>', 'in_reply_to_status_id': None, 'in_reply_to_status_id_str': None, 'in_reply_to_user_id': None, 'in_reply_to_user_id_str': None, 'in_reply_to_screen_name': None, 'user': {'id': 813286, 'id_str': '813286', 'name': 'Barack Obama', 'screen_name': 'BarackObama', 'location': 'Washington, DC', 'description': 'Dad, husband, President, citizen.', 'url': 'https://t.co/93Y27HEnnX', 'entities': {'url': {'urls': [{'url': 'https://t.co/93Y27HEnnX', 'expanded_url': 'https://www.obama.org/', 'display_url': 'obama.org', 'indices': [0, 23]}]}, 'description': {'urls': []}}, 'protected': False, 'followers_count': 118025094, 'friends_count': 605870, 'listed_count': 220504, 'created_at': 'Mon Mar 05 22:08:25 +0000 2007', 'favourites_count': 5, 'utc_offset': None, 'time_zone': None, 'geo_enabled': False, 'verified': True, 'statuses_count': 15812, 'lang': None, 'contributors_enabled': False, 'is_translator': False, 'is_translation_enabled': True, 'profile_background_color': '77B0DC', 'profile_background_image_url': 'http://abs.twimg.com/images/themes/theme1/bg.png', 'profile_background_image_url_https': 'https://abs.twimg.com/images/themes/theme1/bg.png', 'profile_background_tile': False, 'profile_image_url': 'http://pbs.twimg.com/profile_images/822547732376207360/5g0FC8XX_normal.jpg', 'profile_image_url_https': 'https://pbs.twimg.com/profile_images/822547732376207360/5g0FC8XX_normal.jpg', 'profile_banner_url': 'https://pbs.twimg.com/profile_banners/813286/1502508746', 'profile_link_color': '2574AD', 'profile_sidebar_border_color': 'FFFFFF', 'profile_sidebar_fill_color': 'C2E0F6', 'profile_text_color': '333333', 'profile_use_background_image': True, 'has_extended_profile': True, 'default_profile': False, 'default_profile_image': False, 'following': True, 'follow_request_sent': False, 'notifications': False, 'translator_type': 'regular'}, 'geo': None, 'coordinates': None, 'place': None, 'contributors': None, 'is_quote_status': False, 'retweet_count': 27185, 'favorite_count': 144229, 'favorited': False, 'retweeted': False, 'possibly_sensitive': False, 'lang': 'en'}, created_at=datetime.datetime(2020, 5, 25, 14, 31, 5), id=1264926971890409472, id_str='1264926971890409472', text='On Memorial Day, we honor those who gave all for us. That takes different forms this year, but it’s even more vital… https://t.co/wUBXJWWoKs', truncated=True, entities={'hashtags': [], 'symbols': [], 'user_mentions': [], 'urls': [{'url': 'https://t.co/wUBXJWWoKs', 'expanded_url': 'https://twitter.com/i/web/status/1264926971890409472', 'display_url': 'twitter.com/i/web/status/1…', 'indices': [117, 140]}]}, source='Twitter for iPhone', source_url='http://twitter.com/download/iphone', in_reply_to_status_id=None, in_reply_to_status_id_str=None, in_reply_to_user_id=None, in_reply_to_user_id_str=None, in_reply_to_screen_name=None, author=User(_api=<tweepy.api.API object at 0x120c8c590>, _json={'id': 813286, 'id_str': '813286', 'name': 'Barack Obama', 'screen_name': 'BarackObama', 'location': 'Washington, DC', 'description': 'Dad, husband, President, citizen.', 'url': 'https://t.co/93Y27HEnnX', 'entities': {'url': {'urls': [{'url': 'https://t.co/93Y27HEnnX', 'expanded_url': 'https://www.obama.org/', 'display_url': 'obama.org', 'indices': [0, 23]}]}, 'description': {'urls': []}}, 'protected': False, 'followers_count': 118025094, 'friends_count': 605870, 'listed_count': 220504, 'created_at': 'Mon Mar 05 22:08:25 +0000 2007', 'favourites_count': 5, 'utc_offset': None, 'time_zone': None, 'geo_enabled': False, 'verified': True, 'statuses_count': 15812, 'lang': None, 'contributors_enabled': False, 'is_translator': False, 'is_translation_enabled': True, 'profile_background_color': '77B0DC', 'profile_background_image_url': 'http://abs.twimg.com/images/themes/theme1/bg.png', 'profile_background_image_url_https': 'https://abs.twimg.com/images/themes/theme1/bg.png', 'profile_background_tile': False, 'profile_image_url': 'http://pbs.twimg.com/profile_images/822547732376207360/5g0FC8XX_normal.jpg', 'profile_image_url_https': 'https://pbs.twimg.com/profile_images/822547732376207360/5g0FC8XX_normal.jpg', 'profile_banner_url': 'https://pbs.twimg.com/profile_banners/813286/1502508746', 'profile_link_color': '2574AD', 'profile_sidebar_border_color': 'FFFFFF', 'profile_sidebar_fill_color': 'C2E0F6', 'profile_text_color': '333333', 'profile_use_background_image': True, 'has_extended_profile': True, 'default_profile': False, 'default_profile_image': False, 'following': True, 'follow_request_sent': False, 'notifications': False, 'translator_type': 'regular'}, id=813286, id_str='813286', name='Barack Obama', screen_name='BarackObama', location='Washington, DC', description='Dad, husband, President, citizen.', url='https://t.co/93Y27HEnnX', entities={'url': {'urls': [{'url': 'https://t.co/93Y27HEnnX', 'expanded_url': 'https://www.obama.org/', 'display_url': 'obama.org', 'indices': [0, 23]}]}, 'description': {'urls': []}}, protected=False, followers_count=118025094, friends_count=605870, listed_count=220504, created_at=datetime.datetime(2007, 3, 5, 22, 8, 25), favourites_count=5, utc_offset=None, time_zone=None, geo_enabled=False, verified=True, statuses_count=15812, lang=None, contributors_enabled=False, is_translator=False, is_translation_enabled=True, profile_background_color='77B0DC', profile_background_image_url='http://abs.twimg.com/images/themes/theme1/bg.png', profile_background_image_url_https='https://abs.twimg.com/images/themes/theme1/bg.png', profile_background_tile=False, profile_image_url='http://pbs.twimg.com/profile_images/822547732376207360/5g0FC8XX_normal.jpg', profile_image_url_https='https://pbs.twimg.com/profile_images/822547732376207360/5g0FC8XX_normal.jpg', profile_banner_url='https://pbs.twimg.com/profile_banners/813286/1502508746', profile_link_color='2574AD', profile_sidebar_border_color='FFFFFF', profile_sidebar_fill_color='C2E0F6', profile_text_color='333333', profile_use_background_image=True, has_extended_profile=True, default_profile=False, default_profile_image=False, following=True, follow_request_sent=False, notifications=False, translator_type='regular'), user=User(_api=<tweepy.api.API object at 0x120c8c590>, _json={'id': 813286, 'id_str': '813286', 'name': 'Barack Obama', 'screen_name': 'BarackObama', 'location': 'Washington, DC', 'description': 'Dad, husband, President, citizen.', 'url': 'https://t.co/93Y27HEnnX', 'entities': {'url': {'urls': [{'url': 'https://t.co/93Y27HEnnX', 'expanded_url': 'https://www.obama.org/', 'display_url': 'obama.org', 'indices': [0, 23]}]}, 'description': {'urls': []}}, 'protected': False, 'followers_count': 118025094, 'friends_count': 605870, 'listed_count': 220504, 'created_at': 'Mon Mar 05 22:08:25 +0000 2007', 'favourites_count': 5, 'utc_offset': None, 'time_zone': None, 'geo_enabled': False, 'verified': True, 'statuses_count': 15812, 'lang': None, 'contributors_enabled': False, 'is_translator': False, 'is_translation_enabled': True, 'profile_background_color': '77B0DC', 'profile_background_image_url': 'http://abs.twimg.com/images/themes/theme1/bg.png', 'profile_background_image_url_https': 'https://abs.twimg.com/images/themes/theme1/bg.png', 'profile_background_tile': False, 'profile_image_url': 'http://pbs.twimg.com/profile_images/822547732376207360/5g0FC8XX_normal.jpg', 'profile_image_url_https': 'https://pbs.twimg.com/profile_images/822547732376207360/5g0FC8XX_normal.jpg', 'profile_banner_url': 'https://pbs.twimg.com/profile_banners/813286/1502508746', 'profile_link_color': '2574AD', 'profile_sidebar_border_color': 'FFFFFF', 'profile_sidebar_fill_color': 'C2E0F6', 'profile_text_color': '333333', 'profile_use_background_image': True, 'has_extended_profile': True, 'default_profile': False, 'default_profile_image': False, 'following': True, 'follow_request_sent': False, 'notifications': False, 'translator_type': 'regular'}, id=813286, id_str='813286', name='Barack Obama', screen_name='BarackObama', location='Washington, DC', description='Dad, husband, President, citizen.', url='https://t.co/93Y27HEnnX', entities={'url': {'urls': [{'url': 'https://t.co/93Y27HEnnX', 'expanded_url': 'https://www.obama.org/', 'display_url': 'obama.org', 'indices': [0, 23]}]}, 'description': {'urls': []}}, protected=False, followers_count=118025094, friends_count=605870, listed_count=220504, created_at=datetime.datetime(2007, 3, 5, 22, 8, 25), favourites_count=5, utc_offset=None, time_zone=None, geo_enabled=False, verified=True, statuses_count=15812, lang=None, contributors_enabled=False, is_translator=False, is_translation_enabled=True, profile_background_color='77B0DC', profile_background_image_url='http://abs.twimg.com/images/themes/theme1/bg.png', profile_background_image_url_https='https://abs.twimg.com/images/themes/theme1/bg.png', profile_background_tile=False, profile_image_url='http://pbs.twimg.com/profile_images/822547732376207360/5g0FC8XX_normal.jpg', profile_image_url_https='https://pbs.twimg.com/profile_images/822547732376207360/5g0FC8XX_normal.jpg', profile_banner_url='https://pbs.twimg.com/profile_banners/813286/1502508746', profile_link_color='2574AD', profile_sidebar_border_color='FFFFFF', profile_sidebar_fill_color='C2E0F6', profile_text_color='333333', profile_use_background_image=True, has_extended_profile=True, default_profile=False, default_profile_image=False, following=True, follow_request_sent=False, notifications=False, translator_type='regular'), geo=None, coordinates=None, place=None, contributors=None, is_quote_status=False, retweet_count=27185, favorite_count=144229, favorited=False, retweeted=False, possibly_sensitive=False, lang='en'),\n",
       " Status(_api=<tweepy.api.API object at 0x120c8c590>, _json={'created_at': 'Sat May 23 21:55:57 +0000 2020', 'id': 1264314146717384712, 'id_str': '1264314146717384712', 'text': 'And here’s more on the approach Sweden has taken, which differs from some of its neighbors: \\n\\nhttps://t.co/Qw5R0O5RhM', 'truncated': False, 'entities': {'hashtags': [], 'symbols': [], 'user_mentions': [], 'urls': [{'url': 'https://t.co/Qw5R0O5RhM', 'expanded_url': 'https://gen.medium.com/what-americans-need-to-understand-about-the-swedish-coronavirus-experiment-50417cc20994', 'display_url': 'gen.medium.com/what-americans…', 'indices': [94, 117]}]}, 'source': '<a href=\"https://mobile.twitter.com\" rel=\"nofollow\">Twitter Web App</a>', 'in_reply_to_status_id': 1264314145899503616, 'in_reply_to_status_id_str': '1264314145899503616', 'in_reply_to_user_id': 813286, 'in_reply_to_user_id_str': '813286', 'in_reply_to_screen_name': 'BarackObama', 'user': {'id': 813286, 'id_str': '813286', 'name': 'Barack Obama', 'screen_name': 'BarackObama', 'location': 'Washington, DC', 'description': 'Dad, husband, President, citizen.', 'url': 'https://t.co/93Y27HEnnX', 'entities': {'url': {'urls': [{'url': 'https://t.co/93Y27HEnnX', 'expanded_url': 'https://www.obama.org/', 'display_url': 'obama.org', 'indices': [0, 23]}]}, 'description': {'urls': []}}, 'protected': False, 'followers_count': 118025094, 'friends_count': 605870, 'listed_count': 220504, 'created_at': 'Mon Mar 05 22:08:25 +0000 2007', 'favourites_count': 5, 'utc_offset': None, 'time_zone': None, 'geo_enabled': False, 'verified': True, 'statuses_count': 15812, 'lang': None, 'contributors_enabled': False, 'is_translator': False, 'is_translation_enabled': True, 'profile_background_color': '77B0DC', 'profile_background_image_url': 'http://abs.twimg.com/images/themes/theme1/bg.png', 'profile_background_image_url_https': 'https://abs.twimg.com/images/themes/theme1/bg.png', 'profile_background_tile': False, 'profile_image_url': 'http://pbs.twimg.com/profile_images/822547732376207360/5g0FC8XX_normal.jpg', 'profile_image_url_https': 'https://pbs.twimg.com/profile_images/822547732376207360/5g0FC8XX_normal.jpg', 'profile_banner_url': 'https://pbs.twimg.com/profile_banners/813286/1502508746', 'profile_link_color': '2574AD', 'profile_sidebar_border_color': 'FFFFFF', 'profile_sidebar_fill_color': 'C2E0F6', 'profile_text_color': '333333', 'profile_use_background_image': True, 'has_extended_profile': True, 'default_profile': False, 'default_profile_image': False, 'following': True, 'follow_request_sent': False, 'notifications': False, 'translator_type': 'regular'}, 'geo': None, 'coordinates': None, 'place': None, 'contributors': None, 'is_quote_status': False, 'retweet_count': 3957, 'favorite_count': 19876, 'favorited': False, 'retweeted': False, 'possibly_sensitive': False, 'lang': 'en'}, created_at=datetime.datetime(2020, 5, 23, 21, 55, 57), id=1264314146717384712, id_str='1264314146717384712', text='And here’s more on the approach Sweden has taken, which differs from some of its neighbors: \\n\\nhttps://t.co/Qw5R0O5RhM', truncated=False, entities={'hashtags': [], 'symbols': [], 'user_mentions': [], 'urls': [{'url': 'https://t.co/Qw5R0O5RhM', 'expanded_url': 'https://gen.medium.com/what-americans-need-to-understand-about-the-swedish-coronavirus-experiment-50417cc20994', 'display_url': 'gen.medium.com/what-americans…', 'indices': [94, 117]}]}, source='Twitter Web App', source_url='https://mobile.twitter.com', in_reply_to_status_id=1264314145899503616, in_reply_to_status_id_str='1264314145899503616', in_reply_to_user_id=813286, in_reply_to_user_id_str='813286', in_reply_to_screen_name='BarackObama', author=User(_api=<tweepy.api.API object at 0x120c8c590>, _json={'id': 813286, 'id_str': '813286', 'name': 'Barack Obama', 'screen_name': 'BarackObama', 'location': 'Washington, DC', 'description': 'Dad, husband, President, citizen.', 'url': 'https://t.co/93Y27HEnnX', 'entities': {'url': {'urls': [{'url': 'https://t.co/93Y27HEnnX', 'expanded_url': 'https://www.obama.org/', 'display_url': 'obama.org', 'indices': [0, 23]}]}, 'description': {'urls': []}}, 'protected': False, 'followers_count': 118025094, 'friends_count': 605870, 'listed_count': 220504, 'created_at': 'Mon Mar 05 22:08:25 +0000 2007', 'favourites_count': 5, 'utc_offset': None, 'time_zone': None, 'geo_enabled': False, 'verified': True, 'statuses_count': 15812, 'lang': None, 'contributors_enabled': False, 'is_translator': False, 'is_translation_enabled': True, 'profile_background_color': '77B0DC', 'profile_background_image_url': 'http://abs.twimg.com/images/themes/theme1/bg.png', 'profile_background_image_url_https': 'https://abs.twimg.com/images/themes/theme1/bg.png', 'profile_background_tile': False, 'profile_image_url': 'http://pbs.twimg.com/profile_images/822547732376207360/5g0FC8XX_normal.jpg', 'profile_image_url_https': 'https://pbs.twimg.com/profile_images/822547732376207360/5g0FC8XX_normal.jpg', 'profile_banner_url': 'https://pbs.twimg.com/profile_banners/813286/1502508746', 'profile_link_color': '2574AD', 'profile_sidebar_border_color': 'FFFFFF', 'profile_sidebar_fill_color': 'C2E0F6', 'profile_text_color': '333333', 'profile_use_background_image': True, 'has_extended_profile': True, 'default_profile': False, 'default_profile_image': False, 'following': True, 'follow_request_sent': False, 'notifications': False, 'translator_type': 'regular'}, id=813286, id_str='813286', name='Barack Obama', screen_name='BarackObama', location='Washington, DC', description='Dad, husband, President, citizen.', url='https://t.co/93Y27HEnnX', entities={'url': {'urls': [{'url': 'https://t.co/93Y27HEnnX', 'expanded_url': 'https://www.obama.org/', 'display_url': 'obama.org', 'indices': [0, 23]}]}, 'description': {'urls': []}}, protected=False, followers_count=118025094, friends_count=605870, listed_count=220504, created_at=datetime.datetime(2007, 3, 5, 22, 8, 25), favourites_count=5, utc_offset=None, time_zone=None, geo_enabled=False, verified=True, statuses_count=15812, lang=None, contributors_enabled=False, is_translator=False, is_translation_enabled=True, profile_background_color='77B0DC', profile_background_image_url='http://abs.twimg.com/images/themes/theme1/bg.png', profile_background_image_url_https='https://abs.twimg.com/images/themes/theme1/bg.png', profile_background_tile=False, profile_image_url='http://pbs.twimg.com/profile_images/822547732376207360/5g0FC8XX_normal.jpg', profile_image_url_https='https://pbs.twimg.com/profile_images/822547732376207360/5g0FC8XX_normal.jpg', profile_banner_url='https://pbs.twimg.com/profile_banners/813286/1502508746', profile_link_color='2574AD', profile_sidebar_border_color='FFFFFF', profile_sidebar_fill_color='C2E0F6', profile_text_color='333333', profile_use_background_image=True, has_extended_profile=True, default_profile=False, default_profile_image=False, following=True, follow_request_sent=False, notifications=False, translator_type='regular'), user=User(_api=<tweepy.api.API object at 0x120c8c590>, _json={'id': 813286, 'id_str': '813286', 'name': 'Barack Obama', 'screen_name': 'BarackObama', 'location': 'Washington, DC', 'description': 'Dad, husband, President, citizen.', 'url': 'https://t.co/93Y27HEnnX', 'entities': {'url': {'urls': [{'url': 'https://t.co/93Y27HEnnX', 'expanded_url': 'https://www.obama.org/', 'display_url': 'obama.org', 'indices': [0, 23]}]}, 'description': {'urls': []}}, 'protected': False, 'followers_count': 118025094, 'friends_count': 605870, 'listed_count': 220504, 'created_at': 'Mon Mar 05 22:08:25 +0000 2007', 'favourites_count': 5, 'utc_offset': None, 'time_zone': None, 'geo_enabled': False, 'verified': True, 'statuses_count': 15812, 'lang': None, 'contributors_enabled': False, 'is_translator': False, 'is_translation_enabled': True, 'profile_background_color': '77B0DC', 'profile_background_image_url': 'http://abs.twimg.com/images/themes/theme1/bg.png', 'profile_background_image_url_https': 'https://abs.twimg.com/images/themes/theme1/bg.png', 'profile_background_tile': False, 'profile_image_url': 'http://pbs.twimg.com/profile_images/822547732376207360/5g0FC8XX_normal.jpg', 'profile_image_url_https': 'https://pbs.twimg.com/profile_images/822547732376207360/5g0FC8XX_normal.jpg', 'profile_banner_url': 'https://pbs.twimg.com/profile_banners/813286/1502508746', 'profile_link_color': '2574AD', 'profile_sidebar_border_color': 'FFFFFF', 'profile_sidebar_fill_color': 'C2E0F6', 'profile_text_color': '333333', 'profile_use_background_image': True, 'has_extended_profile': True, 'default_profile': False, 'default_profile_image': False, 'following': True, 'follow_request_sent': False, 'notifications': False, 'translator_type': 'regular'}, id=813286, id_str='813286', name='Barack Obama', screen_name='BarackObama', location='Washington, DC', description='Dad, husband, President, citizen.', url='https://t.co/93Y27HEnnX', entities={'url': {'urls': [{'url': 'https://t.co/93Y27HEnnX', 'expanded_url': 'https://www.obama.org/', 'display_url': 'obama.org', 'indices': [0, 23]}]}, 'description': {'urls': []}}, protected=False, followers_count=118025094, friends_count=605870, listed_count=220504, created_at=datetime.datetime(2007, 3, 5, 22, 8, 25), favourites_count=5, utc_offset=None, time_zone=None, geo_enabled=False, verified=True, statuses_count=15812, lang=None, contributors_enabled=False, is_translator=False, is_translation_enabled=True, profile_background_color='77B0DC', profile_background_image_url='http://abs.twimg.com/images/themes/theme1/bg.png', profile_background_image_url_https='https://abs.twimg.com/images/themes/theme1/bg.png', profile_background_tile=False, profile_image_url='http://pbs.twimg.com/profile_images/822547732376207360/5g0FC8XX_normal.jpg', profile_image_url_https='https://pbs.twimg.com/profile_images/822547732376207360/5g0FC8XX_normal.jpg', profile_banner_url='https://pbs.twimg.com/profile_banners/813286/1502508746', profile_link_color='2574AD', profile_sidebar_border_color='FFFFFF', profile_sidebar_fill_color='C2E0F6', profile_text_color='333333', profile_use_background_image=True, has_extended_profile=True, default_profile=False, default_profile_image=False, following=True, follow_request_sent=False, notifications=False, translator_type='regular'), geo=None, coordinates=None, place=None, contributors=None, is_quote_status=False, retweet_count=3957, favorite_count=19876, favorited=False, retweeted=False, possibly_sensitive=False, lang='en'),\n",
       " Status(_api=<tweepy.api.API object at 0x120c8c590>, _json={'created_at': 'Sat May 23 21:55:56 +0000 2020', 'id': 1264314145899503616, 'id_str': '1264314145899503616', 'text': 'South Korea has focused on testing to guard against outbreaks:\\n\\nhttps://t.co/51h11Pb3HZ', 'truncated': False, 'entities': {'hashtags': [], 'symbols': [], 'user_mentions': [], 'urls': [{'url': 'https://t.co/51h11Pb3HZ', 'expanded_url': 'https://abcnews.go.com/Health/trust-testing-tracing-south-korea-succeeded-us-stumbled/story?id=70433504', 'display_url': 'abcnews.go.com/Health/trust-t…', 'indices': [64, 87]}]}, 'source': '<a href=\"https://mobile.twitter.com\" rel=\"nofollow\">Twitter Web App</a>', 'in_reply_to_status_id': 1264314143869460484, 'in_reply_to_status_id_str': '1264314143869460484', 'in_reply_to_user_id': 813286, 'in_reply_to_user_id_str': '813286', 'in_reply_to_screen_name': 'BarackObama', 'user': {'id': 813286, 'id_str': '813286', 'name': 'Barack Obama', 'screen_name': 'BarackObama', 'location': 'Washington, DC', 'description': 'Dad, husband, President, citizen.', 'url': 'https://t.co/93Y27HEnnX', 'entities': {'url': {'urls': [{'url': 'https://t.co/93Y27HEnnX', 'expanded_url': 'https://www.obama.org/', 'display_url': 'obama.org', 'indices': [0, 23]}]}, 'description': {'urls': []}}, 'protected': False, 'followers_count': 118025094, 'friends_count': 605870, 'listed_count': 220504, 'created_at': 'Mon Mar 05 22:08:25 +0000 2007', 'favourites_count': 5, 'utc_offset': None, 'time_zone': None, 'geo_enabled': False, 'verified': True, 'statuses_count': 15812, 'lang': None, 'contributors_enabled': False, 'is_translator': False, 'is_translation_enabled': True, 'profile_background_color': '77B0DC', 'profile_background_image_url': 'http://abs.twimg.com/images/themes/theme1/bg.png', 'profile_background_image_url_https': 'https://abs.twimg.com/images/themes/theme1/bg.png', 'profile_background_tile': False, 'profile_image_url': 'http://pbs.twimg.com/profile_images/822547732376207360/5g0FC8XX_normal.jpg', 'profile_image_url_https': 'https://pbs.twimg.com/profile_images/822547732376207360/5g0FC8XX_normal.jpg', 'profile_banner_url': 'https://pbs.twimg.com/profile_banners/813286/1502508746', 'profile_link_color': '2574AD', 'profile_sidebar_border_color': 'FFFFFF', 'profile_sidebar_fill_color': 'C2E0F6', 'profile_text_color': '333333', 'profile_use_background_image': True, 'has_extended_profile': True, 'default_profile': False, 'default_profile_image': False, 'following': True, 'follow_request_sent': False, 'notifications': False, 'translator_type': 'regular'}, 'geo': None, 'coordinates': None, 'place': None, 'contributors': None, 'is_quote_status': False, 'retweet_count': 5268, 'favorite_count': 25728, 'favorited': False, 'retweeted': False, 'possibly_sensitive': False, 'lang': 'en'}, created_at=datetime.datetime(2020, 5, 23, 21, 55, 56), id=1264314145899503616, id_str='1264314145899503616', text='South Korea has focused on testing to guard against outbreaks:\\n\\nhttps://t.co/51h11Pb3HZ', truncated=False, entities={'hashtags': [], 'symbols': [], 'user_mentions': [], 'urls': [{'url': 'https://t.co/51h11Pb3HZ', 'expanded_url': 'https://abcnews.go.com/Health/trust-testing-tracing-south-korea-succeeded-us-stumbled/story?id=70433504', 'display_url': 'abcnews.go.com/Health/trust-t…', 'indices': [64, 87]}]}, source='Twitter Web App', source_url='https://mobile.twitter.com', in_reply_to_status_id=1264314143869460484, in_reply_to_status_id_str='1264314143869460484', in_reply_to_user_id=813286, in_reply_to_user_id_str='813286', in_reply_to_screen_name='BarackObama', author=User(_api=<tweepy.api.API object at 0x120c8c590>, _json={'id': 813286, 'id_str': '813286', 'name': 'Barack Obama', 'screen_name': 'BarackObama', 'location': 'Washington, DC', 'description': 'Dad, husband, President, citizen.', 'url': 'https://t.co/93Y27HEnnX', 'entities': {'url': {'urls': [{'url': 'https://t.co/93Y27HEnnX', 'expanded_url': 'https://www.obama.org/', 'display_url': 'obama.org', 'indices': [0, 23]}]}, 'description': {'urls': []}}, 'protected': False, 'followers_count': 118025094, 'friends_count': 605870, 'listed_count': 220504, 'created_at': 'Mon Mar 05 22:08:25 +0000 2007', 'favourites_count': 5, 'utc_offset': None, 'time_zone': None, 'geo_enabled': False, 'verified': True, 'statuses_count': 15812, 'lang': None, 'contributors_enabled': False, 'is_translator': False, 'is_translation_enabled': True, 'profile_background_color': '77B0DC', 'profile_background_image_url': 'http://abs.twimg.com/images/themes/theme1/bg.png', 'profile_background_image_url_https': 'https://abs.twimg.com/images/themes/theme1/bg.png', 'profile_background_tile': False, 'profile_image_url': 'http://pbs.twimg.com/profile_images/822547732376207360/5g0FC8XX_normal.jpg', 'profile_image_url_https': 'https://pbs.twimg.com/profile_images/822547732376207360/5g0FC8XX_normal.jpg', 'profile_banner_url': 'https://pbs.twimg.com/profile_banners/813286/1502508746', 'profile_link_color': '2574AD', 'profile_sidebar_border_color': 'FFFFFF', 'profile_sidebar_fill_color': 'C2E0F6', 'profile_text_color': '333333', 'profile_use_background_image': True, 'has_extended_profile': True, 'default_profile': False, 'default_profile_image': False, 'following': True, 'follow_request_sent': False, 'notifications': False, 'translator_type': 'regular'}, id=813286, id_str='813286', name='Barack Obama', screen_name='BarackObama', location='Washington, DC', description='Dad, husband, President, citizen.', url='https://t.co/93Y27HEnnX', entities={'url': {'urls': [{'url': 'https://t.co/93Y27HEnnX', 'expanded_url': 'https://www.obama.org/', 'display_url': 'obama.org', 'indices': [0, 23]}]}, 'description': {'urls': []}}, protected=False, followers_count=118025094, friends_count=605870, listed_count=220504, created_at=datetime.datetime(2007, 3, 5, 22, 8, 25), favourites_count=5, utc_offset=None, time_zone=None, geo_enabled=False, verified=True, statuses_count=15812, lang=None, contributors_enabled=False, is_translator=False, is_translation_enabled=True, profile_background_color='77B0DC', profile_background_image_url='http://abs.twimg.com/images/themes/theme1/bg.png', profile_background_image_url_https='https://abs.twimg.com/images/themes/theme1/bg.png', profile_background_tile=False, profile_image_url='http://pbs.twimg.com/profile_images/822547732376207360/5g0FC8XX_normal.jpg', profile_image_url_https='https://pbs.twimg.com/profile_images/822547732376207360/5g0FC8XX_normal.jpg', profile_banner_url='https://pbs.twimg.com/profile_banners/813286/1502508746', profile_link_color='2574AD', profile_sidebar_border_color='FFFFFF', profile_sidebar_fill_color='C2E0F6', profile_text_color='333333', profile_use_background_image=True, has_extended_profile=True, default_profile=False, default_profile_image=False, following=True, follow_request_sent=False, notifications=False, translator_type='regular'), user=User(_api=<tweepy.api.API object at 0x120c8c590>, _json={'id': 813286, 'id_str': '813286', 'name': 'Barack Obama', 'screen_name': 'BarackObama', 'location': 'Washington, DC', 'description': 'Dad, husband, President, citizen.', 'url': 'https://t.co/93Y27HEnnX', 'entities': {'url': {'urls': [{'url': 'https://t.co/93Y27HEnnX', 'expanded_url': 'https://www.obama.org/', 'display_url': 'obama.org', 'indices': [0, 23]}]}, 'description': {'urls': []}}, 'protected': False, 'followers_count': 118025094, 'friends_count': 605870, 'listed_count': 220504, 'created_at': 'Mon Mar 05 22:08:25 +0000 2007', 'favourites_count': 5, 'utc_offset': None, 'time_zone': None, 'geo_enabled': False, 'verified': True, 'statuses_count': 15812, 'lang': None, 'contributors_enabled': False, 'is_translator': False, 'is_translation_enabled': True, 'profile_background_color': '77B0DC', 'profile_background_image_url': 'http://abs.twimg.com/images/themes/theme1/bg.png', 'profile_background_image_url_https': 'https://abs.twimg.com/images/themes/theme1/bg.png', 'profile_background_tile': False, 'profile_image_url': 'http://pbs.twimg.com/profile_images/822547732376207360/5g0FC8XX_normal.jpg', 'profile_image_url_https': 'https://pbs.twimg.com/profile_images/822547732376207360/5g0FC8XX_normal.jpg', 'profile_banner_url': 'https://pbs.twimg.com/profile_banners/813286/1502508746', 'profile_link_color': '2574AD', 'profile_sidebar_border_color': 'FFFFFF', 'profile_sidebar_fill_color': 'C2E0F6', 'profile_text_color': '333333', 'profile_use_background_image': True, 'has_extended_profile': True, 'default_profile': False, 'default_profile_image': False, 'following': True, 'follow_request_sent': False, 'notifications': False, 'translator_type': 'regular'}, id=813286, id_str='813286', name='Barack Obama', screen_name='BarackObama', location='Washington, DC', description='Dad, husband, President, citizen.', url='https://t.co/93Y27HEnnX', entities={'url': {'urls': [{'url': 'https://t.co/93Y27HEnnX', 'expanded_url': 'https://www.obama.org/', 'display_url': 'obama.org', 'indices': [0, 23]}]}, 'description': {'urls': []}}, protected=False, followers_count=118025094, friends_count=605870, listed_count=220504, created_at=datetime.datetime(2007, 3, 5, 22, 8, 25), favourites_count=5, utc_offset=None, time_zone=None, geo_enabled=False, verified=True, statuses_count=15812, lang=None, contributors_enabled=False, is_translator=False, is_translation_enabled=True, profile_background_color='77B0DC', profile_background_image_url='http://abs.twimg.com/images/themes/theme1/bg.png', profile_background_image_url_https='https://abs.twimg.com/images/themes/theme1/bg.png', profile_background_tile=False, profile_image_url='http://pbs.twimg.com/profile_images/822547732376207360/5g0FC8XX_normal.jpg', profile_image_url_https='https://pbs.twimg.com/profile_images/822547732376207360/5g0FC8XX_normal.jpg', profile_banner_url='https://pbs.twimg.com/profile_banners/813286/1502508746', profile_link_color='2574AD', profile_sidebar_border_color='FFFFFF', profile_sidebar_fill_color='C2E0F6', profile_text_color='333333', profile_use_background_image=True, has_extended_profile=True, default_profile=False, default_profile_image=False, following=True, follow_request_sent=False, notifications=False, translator_type='regular'), geo=None, coordinates=None, place=None, contributors=None, is_quote_status=False, retweet_count=5268, favorite_count=25728, favorited=False, retweeted=False, possibly_sensitive=False, lang='en'),\n",
       " Status(_api=<tweepy.api.API object at 0x120c8c590>, _json={'created_at': 'Sat May 23 21:55:56 +0000 2020', 'id': 1264314143869460484, 'id_str': '1264314143869460484', 'text': 'As all 50 states begin the process of reopening, here are three articles that offer some lessons from other countri… https://t.co/k6xeoaH9zm', 'truncated': True, 'entities': {'hashtags': [], 'symbols': [], 'user_mentions': [], 'urls': [{'url': 'https://t.co/k6xeoaH9zm', 'expanded_url': 'https://twitter.com/i/web/status/1264314143869460484', 'display_url': 'twitter.com/i/web/status/1…', 'indices': [117, 140]}]}, 'source': '<a href=\"https://mobile.twitter.com\" rel=\"nofollow\">Twitter Web App</a>', 'in_reply_to_status_id': None, 'in_reply_to_status_id_str': None, 'in_reply_to_user_id': None, 'in_reply_to_user_id_str': None, 'in_reply_to_screen_name': None, 'user': {'id': 813286, 'id_str': '813286', 'name': 'Barack Obama', 'screen_name': 'BarackObama', 'location': 'Washington, DC', 'description': 'Dad, husband, President, citizen.', 'url': 'https://t.co/93Y27HEnnX', 'entities': {'url': {'urls': [{'url': 'https://t.co/93Y27HEnnX', 'expanded_url': 'https://www.obama.org/', 'display_url': 'obama.org', 'indices': [0, 23]}]}, 'description': {'urls': []}}, 'protected': False, 'followers_count': 118025094, 'friends_count': 605870, 'listed_count': 220504, 'created_at': 'Mon Mar 05 22:08:25 +0000 2007', 'favourites_count': 5, 'utc_offset': None, 'time_zone': None, 'geo_enabled': False, 'verified': True, 'statuses_count': 15812, 'lang': None, 'contributors_enabled': False, 'is_translator': False, 'is_translation_enabled': True, 'profile_background_color': '77B0DC', 'profile_background_image_url': 'http://abs.twimg.com/images/themes/theme1/bg.png', 'profile_background_image_url_https': 'https://abs.twimg.com/images/themes/theme1/bg.png', 'profile_background_tile': False, 'profile_image_url': 'http://pbs.twimg.com/profile_images/822547732376207360/5g0FC8XX_normal.jpg', 'profile_image_url_https': 'https://pbs.twimg.com/profile_images/822547732376207360/5g0FC8XX_normal.jpg', 'profile_banner_url': 'https://pbs.twimg.com/profile_banners/813286/1502508746', 'profile_link_color': '2574AD', 'profile_sidebar_border_color': 'FFFFFF', 'profile_sidebar_fill_color': 'C2E0F6', 'profile_text_color': '333333', 'profile_use_background_image': True, 'has_extended_profile': True, 'default_profile': False, 'default_profile_image': False, 'following': True, 'follow_request_sent': False, 'notifications': False, 'translator_type': 'regular'}, 'geo': None, 'coordinates': None, 'place': None, 'contributors': None, 'is_quote_status': False, 'retweet_count': 16325, 'favorite_count': 69083, 'favorited': False, 'retweeted': False, 'possibly_sensitive': False, 'lang': 'en'}, created_at=datetime.datetime(2020, 5, 23, 21, 55, 56), id=1264314143869460484, id_str='1264314143869460484', text='As all 50 states begin the process of reopening, here are three articles that offer some lessons from other countri… https://t.co/k6xeoaH9zm', truncated=True, entities={'hashtags': [], 'symbols': [], 'user_mentions': [], 'urls': [{'url': 'https://t.co/k6xeoaH9zm', 'expanded_url': 'https://twitter.com/i/web/status/1264314143869460484', 'display_url': 'twitter.com/i/web/status/1…', 'indices': [117, 140]}]}, source='Twitter Web App', source_url='https://mobile.twitter.com', in_reply_to_status_id=None, in_reply_to_status_id_str=None, in_reply_to_user_id=None, in_reply_to_user_id_str=None, in_reply_to_screen_name=None, author=User(_api=<tweepy.api.API object at 0x120c8c590>, _json={'id': 813286, 'id_str': '813286', 'name': 'Barack Obama', 'screen_name': 'BarackObama', 'location': 'Washington, DC', 'description': 'Dad, husband, President, citizen.', 'url': 'https://t.co/93Y27HEnnX', 'entities': {'url': {'urls': [{'url': 'https://t.co/93Y27HEnnX', 'expanded_url': 'https://www.obama.org/', 'display_url': 'obama.org', 'indices': [0, 23]}]}, 'description': {'urls': []}}, 'protected': False, 'followers_count': 118025094, 'friends_count': 605870, 'listed_count': 220504, 'created_at': 'Mon Mar 05 22:08:25 +0000 2007', 'favourites_count': 5, 'utc_offset': None, 'time_zone': None, 'geo_enabled': False, 'verified': True, 'statuses_count': 15812, 'lang': None, 'contributors_enabled': False, 'is_translator': False, 'is_translation_enabled': True, 'profile_background_color': '77B0DC', 'profile_background_image_url': 'http://abs.twimg.com/images/themes/theme1/bg.png', 'profile_background_image_url_https': 'https://abs.twimg.com/images/themes/theme1/bg.png', 'profile_background_tile': False, 'profile_image_url': 'http://pbs.twimg.com/profile_images/822547732376207360/5g0FC8XX_normal.jpg', 'profile_image_url_https': 'https://pbs.twimg.com/profile_images/822547732376207360/5g0FC8XX_normal.jpg', 'profile_banner_url': 'https://pbs.twimg.com/profile_banners/813286/1502508746', 'profile_link_color': '2574AD', 'profile_sidebar_border_color': 'FFFFFF', 'profile_sidebar_fill_color': 'C2E0F6', 'profile_text_color': '333333', 'profile_use_background_image': True, 'has_extended_profile': True, 'default_profile': False, 'default_profile_image': False, 'following': True, 'follow_request_sent': False, 'notifications': False, 'translator_type': 'regular'}, id=813286, id_str='813286', name='Barack Obama', screen_name='BarackObama', location='Washington, DC', description='Dad, husband, President, citizen.', url='https://t.co/93Y27HEnnX', entities={'url': {'urls': [{'url': 'https://t.co/93Y27HEnnX', 'expanded_url': 'https://www.obama.org/', 'display_url': 'obama.org', 'indices': [0, 23]}]}, 'description': {'urls': []}}, protected=False, followers_count=118025094, friends_count=605870, listed_count=220504, created_at=datetime.datetime(2007, 3, 5, 22, 8, 25), favourites_count=5, utc_offset=None, time_zone=None, geo_enabled=False, verified=True, statuses_count=15812, lang=None, contributors_enabled=False, is_translator=False, is_translation_enabled=True, profile_background_color='77B0DC', profile_background_image_url='http://abs.twimg.com/images/themes/theme1/bg.png', profile_background_image_url_https='https://abs.twimg.com/images/themes/theme1/bg.png', profile_background_tile=False, profile_image_url='http://pbs.twimg.com/profile_images/822547732376207360/5g0FC8XX_normal.jpg', profile_image_url_https='https://pbs.twimg.com/profile_images/822547732376207360/5g0FC8XX_normal.jpg', profile_banner_url='https://pbs.twimg.com/profile_banners/813286/1502508746', profile_link_color='2574AD', profile_sidebar_border_color='FFFFFF', profile_sidebar_fill_color='C2E0F6', profile_text_color='333333', profile_use_background_image=True, has_extended_profile=True, default_profile=False, default_profile_image=False, following=True, follow_request_sent=False, notifications=False, translator_type='regular'), user=User(_api=<tweepy.api.API object at 0x120c8c590>, _json={'id': 813286, 'id_str': '813286', 'name': 'Barack Obama', 'screen_name': 'BarackObama', 'location': 'Washington, DC', 'description': 'Dad, husband, President, citizen.', 'url': 'https://t.co/93Y27HEnnX', 'entities': {'url': {'urls': [{'url': 'https://t.co/93Y27HEnnX', 'expanded_url': 'https://www.obama.org/', 'display_url': 'obama.org', 'indices': [0, 23]}]}, 'description': {'urls': []}}, 'protected': False, 'followers_count': 118025094, 'friends_count': 605870, 'listed_count': 220504, 'created_at': 'Mon Mar 05 22:08:25 +0000 2007', 'favourites_count': 5, 'utc_offset': None, 'time_zone': None, 'geo_enabled': False, 'verified': True, 'statuses_count': 15812, 'lang': None, 'contributors_enabled': False, 'is_translator': False, 'is_translation_enabled': True, 'profile_background_color': '77B0DC', 'profile_background_image_url': 'http://abs.twimg.com/images/themes/theme1/bg.png', 'profile_background_image_url_https': 'https://abs.twimg.com/images/themes/theme1/bg.png', 'profile_background_tile': False, 'profile_image_url': 'http://pbs.twimg.com/profile_images/822547732376207360/5g0FC8XX_normal.jpg', 'profile_image_url_https': 'https://pbs.twimg.com/profile_images/822547732376207360/5g0FC8XX_normal.jpg', 'profile_banner_url': 'https://pbs.twimg.com/profile_banners/813286/1502508746', 'profile_link_color': '2574AD', 'profile_sidebar_border_color': 'FFFFFF', 'profile_sidebar_fill_color': 'C2E0F6', 'profile_text_color': '333333', 'profile_use_background_image': True, 'has_extended_profile': True, 'default_profile': False, 'default_profile_image': False, 'following': True, 'follow_request_sent': False, 'notifications': False, 'translator_type': 'regular'}, id=813286, id_str='813286', name='Barack Obama', screen_name='BarackObama', location='Washington, DC', description='Dad, husband, President, citizen.', url='https://t.co/93Y27HEnnX', entities={'url': {'urls': [{'url': 'https://t.co/93Y27HEnnX', 'expanded_url': 'https://www.obama.org/', 'display_url': 'obama.org', 'indices': [0, 23]}]}, 'description': {'urls': []}}, protected=False, followers_count=118025094, friends_count=605870, listed_count=220504, created_at=datetime.datetime(2007, 3, 5, 22, 8, 25), favourites_count=5, utc_offset=None, time_zone=None, geo_enabled=False, verified=True, statuses_count=15812, lang=None, contributors_enabled=False, is_translator=False, is_translation_enabled=True, profile_background_color='77B0DC', profile_background_image_url='http://abs.twimg.com/images/themes/theme1/bg.png', profile_background_image_url_https='https://abs.twimg.com/images/themes/theme1/bg.png', profile_background_tile=False, profile_image_url='http://pbs.twimg.com/profile_images/822547732376207360/5g0FC8XX_normal.jpg', profile_image_url_https='https://pbs.twimg.com/profile_images/822547732376207360/5g0FC8XX_normal.jpg', profile_banner_url='https://pbs.twimg.com/profile_banners/813286/1502508746', profile_link_color='2574AD', profile_sidebar_border_color='FFFFFF', profile_sidebar_fill_color='C2E0F6', profile_text_color='333333', profile_use_background_image=True, has_extended_profile=True, default_profile=False, default_profile_image=False, following=True, follow_request_sent=False, notifications=False, translator_type='regular'), geo=None, coordinates=None, place=None, contributors=None, is_quote_status=False, retweet_count=16325, favorite_count=69083, favorited=False, retweeted=False, possibly_sensitive=False, lang='en')]"
      ]
     },
     "execution_count": 79,
     "metadata": {},
     "output_type": "execute_result"
    }
   ],
   "source": [
    "# Collect tweets\n",
    "tweets = api.user_timeline(screen_name=\"BarackObama\", count=5, include_rts=False)\n",
    "tweets"
   ]
  },
  {
   "cell_type": "code",
   "execution_count": 77,
   "metadata": {},
   "outputs": [
    {
     "name": "stdout",
     "output_type": "stream",
     "text": [
      "If you believe in a more just, more generous, more democratic America, now is the time to fight for it. Here’s a te… https://t.co/wjDlgys1Uc\n",
      "On Memorial Day, we honor those who gave all for us. That takes different forms this year, but it’s even more vital… https://t.co/wUBXJWWoKs\n",
      "And here’s more on the approach Sweden has taken, which differs from some of its neighbors: \n",
      "\n",
      "https://t.co/Qw5R0O5RhM\n",
      "South Korea has focused on testing to guard against outbreaks:\n",
      "\n",
      "https://t.co/51h11Pb3HZ\n",
      "As all 50 states begin the process of reopening, here are three articles that offer some lessons from other countri… https://t.co/k6xeoaH9zm\n"
     ]
    }
   ],
   "source": [
    "# Iterate and print tweets\n",
    "for tweet in tweets:\n",
    "    print(tweet.text)"
   ]
  },
  {
   "cell_type": "code",
   "execution_count": 78,
   "metadata": {},
   "outputs": [
    {
     "data": {
      "text/plain": [
       "['If you believe in a more just, more generous, more democratic America, now is the time to fight for it. Here’s a te… https://t.co/wjDlgys1Uc',\n",
       " 'On Memorial Day, we honor those who gave all for us. That takes different forms this year, but it’s even more vital… https://t.co/wUBXJWWoKs',\n",
       " 'And here’s more on the approach Sweden has taken, which differs from some of its neighbors: \\n\\nhttps://t.co/Qw5R0O5RhM',\n",
       " 'South Korea has focused on testing to guard against outbreaks:\\n\\nhttps://t.co/51h11Pb3HZ',\n",
       " 'As all 50 states begin the process of reopening, here are three articles that offer some lessons from other countri… https://t.co/k6xeoaH9zm']"
      ]
     },
     "execution_count": 78,
     "metadata": {},
     "output_type": "execute_result"
    }
   ],
   "source": [
    "# Collect a list of tweets\n",
    "tweets = api.user_timeline(screen_name=\"BarackObama\", count=5, include_rts=False)\n",
    "\n",
    "[tweet.text for tweet in tweets]"
   ]
  },
  {
   "cell_type": "code",
   "execution_count": 97,
   "metadata": {},
   "outputs": [
    {
     "data": {
      "text/html": [
       "<div>\n",
       "<style scoped>\n",
       "    .dataframe tbody tr th:only-of-type {\n",
       "        vertical-align: middle;\n",
       "    }\n",
       "\n",
       "    .dataframe tbody tr th {\n",
       "        vertical-align: top;\n",
       "    }\n",
       "\n",
       "    .dataframe thead th {\n",
       "        text-align: right;\n",
       "    }\n",
       "</style>\n",
       "<table border=\"1\" class=\"dataframe\">\n",
       "  <thead>\n",
       "    <tr style=\"text-align: right;\">\n",
       "      <th></th>\n",
       "      <th>user</th>\n",
       "      <th>text</th>\n",
       "    </tr>\n",
       "  </thead>\n",
       "  <tbody>\n",
       "    <tr>\n",
       "      <td>0</td>\n",
       "      <td>BarackObama</td>\n",
       "      <td>If you believe in a more just, more generous, ...</td>\n",
       "    </tr>\n",
       "    <tr>\n",
       "      <td>1</td>\n",
       "      <td>BarackObama</td>\n",
       "      <td>On Memorial Day, we honor those who gave all f...</td>\n",
       "    </tr>\n",
       "    <tr>\n",
       "      <td>2</td>\n",
       "      <td>BarackObama</td>\n",
       "      <td>And here’s more on the approach Sweden has tak...</td>\n",
       "    </tr>\n",
       "    <tr>\n",
       "      <td>3</td>\n",
       "      <td>BarackObama</td>\n",
       "      <td>South Korea has focused on testing to guard ag...</td>\n",
       "    </tr>\n",
       "    <tr>\n",
       "      <td>4</td>\n",
       "      <td>BarackObama</td>\n",
       "      <td>As all 50 states begin the process of reopenin...</td>\n",
       "    </tr>\n",
       "    <tr>\n",
       "      <td>5</td>\n",
       "      <td>BarackObama</td>\n",
       "      <td>The Class of 2020 is full of the leaders we ne...</td>\n",
       "    </tr>\n",
       "    <tr>\n",
       "      <td>6</td>\n",
       "      <td>BarackObama</td>\n",
       "      <td>As Chicago navigates the health crisis, its re...</td>\n",
       "    </tr>\n",
       "    <tr>\n",
       "      <td>7</td>\n",
       "      <td>BarackObama</td>\n",
       "      <td>Congrats to the high school Class of 2020, as ...</td>\n",
       "    </tr>\n",
       "    <tr>\n",
       "      <td>8</td>\n",
       "      <td>BarackObama</td>\n",
       "      <td>Congratulations to the HBCU Class of 2020! Mic...</td>\n",
       "    </tr>\n",
       "  </tbody>\n",
       "</table>\n",
       "</div>"
      ],
      "text/plain": [
       "          user                                               text\n",
       "0  BarackObama  If you believe in a more just, more generous, ...\n",
       "1  BarackObama  On Memorial Day, we honor those who gave all f...\n",
       "2  BarackObama  And here’s more on the approach Sweden has tak...\n",
       "3  BarackObama  South Korea has focused on testing to guard ag...\n",
       "4  BarackObama  As all 50 states begin the process of reopenin...\n",
       "5  BarackObama  The Class of 2020 is full of the leaders we ne...\n",
       "6  BarackObama  As Chicago navigates the health crisis, its re...\n",
       "7  BarackObama  Congrats to the high school Class of 2020, as ...\n",
       "8  BarackObama  Congratulations to the HBCU Class of 2020! Mic..."
      ]
     },
     "execution_count": 97,
     "metadata": {},
     "output_type": "execute_result"
    }
   ],
   "source": [
    "tweets = api.user_timeline(screen_name=\"BarackObama\", count=10, include_rts=False)\n",
    "users_text = [[tweet.user.screen_name, tweet.text] for tweet in tweets]\n",
    "tweet_text = pd.DataFrame(data=users_text, \n",
    "                    columns=['user', \"text\"])\n",
    "tweet_text"
   ]
  },
  {
   "cell_type": "code",
   "execution_count": null,
   "metadata": {},
   "outputs": [],
   "source": [
    "# Screen names of most popular twitter accounts with gender\n",
    "# 0 = male, 1 = female\n",
    "users = [['jimmyfallon',0],\n",
    "         ['shakira',1],\n",
    "         ['ddlovato',1],\n",
    "         ['britneyspears',1],\n",
    "         ['narendramodi',0],\n",
    "         ['selenagomez',1],\n",
    "         ['jtimberlake',0],\n",
    "         ['kimkardashian',1],\n",
    "         ['arianagrande',1],\n",
    "         ['realdonaldtrump',0],\n",
    "         ['theellenshow',1],\n",
    "         ['ladygaga',1],\n",
    "         ['cristiano',0],\n",
    "         ['taylorswift13',1],\n",
    "         ['rihanna',1],\n",
    "         ['katyperry',1],\n",
    "         ['justinbieber',0],\n",
    "         ['barackobama',0]]"
   ]
  },
  {
   "cell_type": "code",
   "execution_count": null,
   "metadata": {},
   "outputs": [],
   "source": [
    "# Create a function that collects the most recent 100 tweets from user list and save to dataframe\n",
    "# Add additional column in dataframe with gender classification, either 0 or 1\n",
    "\n",
    "def get_tweets(users, ):\n",
    "                \n",
    "\n",
    "\n"
   ]
  },
  {
   "cell_type": "code",
   "execution_count": 124,
   "metadata": {},
   "outputs": [],
   "source": [
    "users = [['jimmyfallon',0],\n",
    " ['shakira',1],\n",
    " ['ddlovato',1],\n",
    " ['britneyspears',1]]"
   ]
  },
  {
   "cell_type": "code",
   "execution_count": 130,
   "metadata": {},
   "outputs": [],
   "source": [
    "users = pd.DataFrame"
   ]
  },
  {
   "cell_type": "code",
   "execution_count": 133,
   "metadata": {},
   "outputs": [
    {
     "ename": "TypeError",
     "evalue": "'type' object is not subscriptable",
     "output_type": "error",
     "traceback": [
      "\u001b[0;31m---------------------------------------------------------------------------\u001b[0m",
      "\u001b[0;31mTypeError\u001b[0m                                 Traceback (most recent call last)",
      "\u001b[0;32m<ipython-input-133-7c3eb3c8d903>\u001b[0m in \u001b[0;36m<module>\u001b[0;34m\u001b[0m\n\u001b[0;32m----> 1\u001b[0;31m \u001b[0musers\u001b[0m\u001b[0;34m[\u001b[0m\u001b[0;36m0\u001b[0m\u001b[0;34m]\u001b[0m\u001b[0;34m\u001b[0m\u001b[0;34m\u001b[0m\u001b[0m\n\u001b[0m",
      "\u001b[0;31mTypeError\u001b[0m: 'type' object is not subscriptable"
     ]
    }
   ],
   "source": [
    "users[0]"
   ]
  },
  {
   "cell_type": "code",
   "execution_count": null,
   "metadata": {},
   "outputs": [],
   "source": [
    "\n",
    " 'jimmyfallon',0\n",
    " 'shakira',1\n",
    " 'ddlovato',1\n",
    " 'britneyspears',1\n",
    " 'narendramodi',0\n",
    " 'selenagomez',1\n",
    " 'jtimberlake',0\n",
    " 'kimkardashian',1\n",
    " 'arianagrande',1\n",
    " 'realdonaldtrump',0\n",
    " 'theellenshow',1\n",
    " 'ladygaga',1\n",
    " 'cristiano',0\n",
    " 'taylorswift13',1\n",
    " 'rihanna',1\n",
    " 'katyperry',1\n",
    " 'justinbieber',0\n",
    " 'barackobama',0"
   ]
  }
 ],
 "metadata": {
  "kernelspec": {
   "display_name": "Python 3",
   "language": "python",
   "name": "python3"
  },
  "language_info": {
   "codemirror_mode": {
    "name": "ipython",
    "version": 3
   },
   "file_extension": ".py",
   "mimetype": "text/x-python",
   "name": "python",
   "nbconvert_exporter": "python",
   "pygments_lexer": "ipython3",
   "version": "3.7.4"
  }
 },
 "nbformat": 4,
 "nbformat_minor": 2
}
